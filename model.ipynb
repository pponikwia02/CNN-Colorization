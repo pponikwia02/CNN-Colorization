{
 "cells": [
  {
   "cell_type": "code",
   "execution_count": 15,
   "id": "65b4c798-c9f8-4580-a860-d3805fa73960",
   "metadata": {},
   "outputs": [],
   "source": [
    "import matplotlib.pyplot as plt\n",
    "import pandas as pd\n",
    "import numpy as np\n",
    "import cv2, os\n",
    "import tensorflow as tf\n",
    "from tensorflow import keras\n",
    "from sklearn.model_selection import train_test_split\n",
    "from PIL import Image, ImageCms"
   ]
  },
  {
   "cell_type": "markdown",
   "id": "34364cfa-26c5-48ed-9467-ba92b8099d4d",
   "metadata": {},
   "source": [
    "https://www.kaggle.com/datasets/arnaud58/landscape-pictures/data\n",
    "https://learnopencv.com/convolutional-neural-network-based-image-colorization-using-opencv/\n",
    "https://www.tensorflow.org/tutorials/load_data/images?hl=pl\n",
    "https://www.kaggle.com/code/theblackmamba31/autoencoder-grayscale-to-color-image\n",
    "\n",
    "https://www.kaggle.com/code/basu369victor/image-colorization-basic-implementation-with-cnn\n",
    "https://richzhang.github.io/colorization/\n",
    "#Duperele"
   ]
  },
  {
   "cell_type": "code",
   "execution_count": 34,
   "id": "2c32d3c5-9341-421b-95c3-99133cc88017",
   "metadata": {},
   "outputs": [],
   "source": [
    "def set_seed(seed=2137):\n",
    "    np.random.seed(seed)\n",
    "    tf.random.set_seed(seed)\n",
    "    os.environ['PYTHONHASHSEED'] = str(seed)\n",
    "    os.environ['TF_DETERMINISTIC_OPS'] = '1'\n",
    "set_seed()\n",
    "\n",
    "#Stałe dla wczytywania obrazów\n",
    "IMAGE_DIM = (128,128)\n",
    "DATA_PATH='data/landscape'\n",
    "BATCH_SIZE = 32\n",
    "COLOR_MODE = 'rgb'\n",
    "LABELS = None\n",
    "SHUFFLE=True\n",
    "\n",
    "#Funkcje pomocnicze\n",
    "#Funkcja do zamiany obrazu z rgb space do lab space\n",
    "def img_to_lab(img_batch):\n",
    "    def convert(img):\n",
    "        img = img.numpy().astype(np.uint8)\n",
    "        lab = cv2.cvtColor(img, cv2.COLOR_RGB2LAB)\n",
    "        L = lab[:, :, 0:1] / 255.0  # 0–1\n",
    "        ab = (lab[:, :, 1:] - 128) / 128.0  # -1 to 1\n",
    "        return L.astype(np.float32), ab.astype(np.float32)\n",
    "    L, ab = tf.numpy_function(convert, [img_batch], [tf.float32, tf.float32])\n",
    "    L.set_shape((IMAGE_DIM[0], IMAGE_DIM[1], 1))\n",
    "    ab.set_shape((IMAGE_DIM[0], IMAGE_DIM[1], 2))\n",
    "    return L, ab, rgb\n",
    "\n",
    "        "
   ]
  },
  {
   "cell_type": "code",
   "execution_count": 31,
   "id": "e3c344e8-53c8-4a8e-8330-fb77ad7fec82",
   "metadata": {},
   "outputs": [
    {
     "name": "stdout",
     "output_type": "stream",
     "text": [
      "Found 4319 files.\n"
     ]
    },
    {
     "data": {
      "text/plain": [
       "135"
      ]
     },
     "execution_count": 31,
     "metadata": {},
     "output_type": "execute_result"
    }
   ],
   "source": [
    "dataset = tf.keras.preprocessing.image_dataset_from_directory(\n",
    "    DATA_PATH,\n",
    "    labels=LABELS\n",
    "    ,image_size=IMAGE_DIM,\n",
    "    color_mode=COLOR_MODE,\n",
    "    batch_size=BATCH_SIZE,\n",
    "    shuffle=SHUFFLE,\n",
    ")\n"
   ]
  },
  {
   "cell_type": "code",
   "execution_count": 32,
   "id": "f15496a3-1227-4ca9-824a-c840f88beeb5",
   "metadata": {},
   "outputs": [],
   "source": [
    "dataset = dataset.map(lambda x:img_to_lab(x),num_parallel_calls=tf.data.AUTOTUNE)"
   ]
  },
  {
   "cell_type": "code",
   "execution_count": 33,
   "id": "11ac3829-6b4c-42f1-9c80-4048093a48c5",
   "metadata": {},
   "outputs": [
    {
     "data": {
      "text/plain": [
       "135"
      ]
     },
     "execution_count": 33,
     "metadata": {},
     "output_type": "execute_result"
    }
   ],
   "source": []
  },
  {
   "cell_type": "code",
   "execution_count": null,
   "id": "302afac9-d789-422b-9410-55cb56f5f9f7",
   "metadata": {},
   "outputs": [],
   "source": []
  }
 ],
 "metadata": {
  "kernelspec": {
   "display_name": "Python 3 (ipykernel)",
   "language": "python",
   "name": "python3"
  },
  "language_info": {
   "codemirror_mode": {
    "name": "ipython",
    "version": 3
   },
   "file_extension": ".py",
   "mimetype": "text/x-python",
   "name": "python",
   "nbconvert_exporter": "python",
   "pygments_lexer": "ipython3",
   "version": "3.11.9"
  }
 },
 "nbformat": 4,
 "nbformat_minor": 5
}
